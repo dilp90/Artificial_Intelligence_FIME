{
  "nbformat": 4,
  "nbformat_minor": 0,
  "metadata": {
    "colab": {
      "provenance": [],
      "authorship_tag": "ABX9TyPBsDvAmz7uXRU/UiTJlzGP",
      "include_colab_link": true
    },
    "kernelspec": {
      "name": "python3",
      "display_name": "Python 3"
    },
    "language_info": {
      "name": "python"
    }
  },
  "cells": [
    {
      "cell_type": "markdown",
      "metadata": {
        "id": "view-in-github",
        "colab_type": "text"
      },
      "source": [
        "<a href=\"https://colab.research.google.com/github/dilp90/Artificial_Intelligence_FIME/blob/main/1_Libraries_Pandas.ipynb\" target=\"_parent\"><img src=\"https://colab.research.google.com/assets/colab-badge.svg\" alt=\"Open In Colab\"/></a>"
      ]
    },
    {
      "cell_type": "markdown",
      "source": [
        "# **Tutorial for Pandas Library**\n",
        "Pandas is a fast, powerful, flexible and easy to use open source data analysis and manipulation tool, built on top of the Python programming language.\n",
        "\n",
        "Official website: https://pandas.pydata.org/"
      ],
      "metadata": {
        "id": "j6u__pH_Tdh1"
      }
    },
    {
      "cell_type": "markdown",
      "source": [
        "**Exercise**:\n",
        "\n",
        "Real Estate Property Data Analysis.\n",
        "\n",
        "**Objective**:\n",
        "\n",
        "This exercise will help you practice common Pandas operations such as data loading, cleaning, manipulation, and exploratory analysis, fundamental tools for artificial intelligence.\n",
        "\n",
        "**Data**:\n",
        "\n",
        "Real estate property dataset with the following attributes:\n",
        "\n",
        "*   **Price**: The price of the property.\n",
        "*   **Size (ft²)**: The size of the property in square feet.\n",
        "*   **Number of rooms**: The number of rooms in the property.\n",
        "*   **Year of construction**: The year the property was built.\n",
        "*   **Property type**: The type of property (e.g., \"House\", \"Apartment\").\n",
        "*   **Location**: The city or region where the property is located."
      ],
      "metadata": {
        "id": "Lm3u0WNKUJi6"
      }
    },
    {
      "cell_type": "code",
      "execution_count": 3,
      "metadata": {
        "id": "GEDboIo2TZpk"
      },
      "outputs": [],
      "source": [
        "# Load libraries\n",
        "import pandas as pd\n",
        "import matplotlib.pyplot as plt"
      ]
    },
    {
      "cell_type": "markdown",
      "source": [
        "1. Cargar datos"
      ],
      "metadata": {
        "id": "LuEjHeM4L9j-"
      }
    },
    {
      "cell_type": "code",
      "source": [
        "# Source: https://github.com/PacktPublishing/Programming-for-Statistics-and-Data-Science/blob/master/real_estate.csv\n",
        "# Load data from a CSV file\n",
        "df = pd.read_csv('/content/real_estate.csv')"
      ],
      "metadata": {
        "id": "ieztRCzCaFB6"
      },
      "execution_count": 4,
      "outputs": []
    },
    {
      "cell_type": "markdown",
      "source": [
        "2. Explore dataframe"
      ],
      "metadata": {
        "id": "GZARC-anMAdH"
      }
    },
    {
      "cell_type": "code",
      "source": [
        "# Show the first 10 lines of data.\n",
        "print(df.head(5))"
      ],
      "metadata": {
        "colab": {
          "base_uri": "https://localhost:8080/"
        },
        "id": "WK0fwlPaMDV5",
        "outputId": "ac8bcc59-a5b0-4620-ed1f-342f61f121ec"
      },
      "execution_count": 5,
      "outputs": [
        {
          "output_type": "stream",
          "name": "stdout",
          "text": [
            "     ID  Building Type  Year of sale  Month of sale Type of property  \\\n",
            "0  1030              1        2005.0           11.0        Apartment   \n",
            "1  1029              1        2005.0           10.0        Apartment   \n",
            "2  2002              2        2007.0            7.0        Apartment   \n",
            "3  2031              2        2007.0           12.0        Apartment   \n",
            "4  1049              1        2004.0           11.0        Apartment   \n",
            "\n",
            "   Property #  Area (ft.)      Price  Status  \n",
            "0          30      743.09  246.17268   Sold   \n",
            "1          29      756.21  246.33190   Sold   \n",
            "2           2      587.28  209.28091   Sold   \n",
            "3          31     1604.75  452.66701   Sold   \n",
            "4          49     1375.45  467.08331   Sold   \n"
          ]
        }
      ]
    },
    {
      "cell_type": "code",
      "source": [
        "# Get information about the columns and the data type of each one.\n",
        "print(df.info())"
      ],
      "metadata": {
        "colab": {
          "base_uri": "https://localhost:8080/"
        },
        "id": "nhGb5RIuMUGd",
        "outputId": "8d01c50e-48f8-4a40-fa68-2329f512f26f"
      },
      "execution_count": 6,
      "outputs": [
        {
          "output_type": "stream",
          "name": "stdout",
          "text": [
            "<class 'pandas.core.frame.DataFrame'>\n",
            "RangeIndex: 267 entries, 0 to 266\n",
            "Data columns (total 9 columns):\n",
            " #   Column            Non-Null Count  Dtype  \n",
            "---  ------            --------------  -----  \n",
            " 0   ID                267 non-null    int64  \n",
            " 1   Building Type     267 non-null    int64  \n",
            " 2   Year of sale      195 non-null    float64\n",
            " 3   Month of sale     195 non-null    float64\n",
            " 4   Type of property  267 non-null    object \n",
            " 5   Property #        267 non-null    int64  \n",
            " 6   Area (ft.)        267 non-null    float64\n",
            " 7   Price             267 non-null    float64\n",
            " 8   Status            267 non-null    object \n",
            "dtypes: float64(4), int64(3), object(2)\n",
            "memory usage: 18.9+ KB\n",
            "None\n"
          ]
        }
      ]
    },
    {
      "cell_type": "code",
      "source": [
        "# How many properties are there in total in the dataset? Use the shape method to get the shape of the data.\n",
        "print(df.shape)"
      ],
      "metadata": {
        "colab": {
          "base_uri": "https://localhost:8080/"
        },
        "id": "xN8jRPGdMam7",
        "outputId": "93c640cd-71a9-4f19-851f-2a21848bed11"
      },
      "execution_count": 7,
      "outputs": [
        {
          "output_type": "stream",
          "name": "stdout",
          "text": [
            "(267, 9)\n"
          ]
        }
      ]
    },
    {
      "cell_type": "markdown",
      "source": [
        "3. Data cleaning"
      ],
      "metadata": {
        "id": "MF9MVuqTMqd-"
      }
    },
    {
      "cell_type": "code",
      "source": [
        "# Check if there are null values (missing values) in any column and how to handle them.\n",
        "# You can use isnull() and sum() to identify null values\n",
        "print(df.isnull().sum())"
      ],
      "metadata": {
        "colab": {
          "base_uri": "https://localhost:8080/"
        },
        "id": "ZIbZL6UyMtaT",
        "outputId": "797ecd47-a952-4da6-87cd-646b322baaf6"
      },
      "execution_count": 8,
      "outputs": [
        {
          "output_type": "stream",
          "name": "stdout",
          "text": [
            "ID                   0\n",
            "Building Type        0\n",
            "Year of sale        72\n",
            "Month of sale       72\n",
            "Type of property     0\n",
            "Property #           0\n",
            "Area (ft.)           0\n",
            "Price                0\n",
            "Status               0\n",
            "dtype: int64\n"
          ]
        }
      ]
    },
    {
      "cell_type": "code",
      "source": [
        "# If you find null values, you can choose to fill them with the mean or delete the rows containing missing data.\n",
        "df['Year of sale'] = df['Year of sale'].fillna(df['Year of sale'].mean())"
      ],
      "metadata": {
        "id": "Tknhq7IIM7J_"
      },
      "execution_count": null,
      "outputs": []
    },
    {
      "cell_type": "markdown",
      "source": [
        "4. Data filtering and manipulation:"
      ],
      "metadata": {
        "id": "0DoFvsppNhts"
      }
    },
    {
      "cell_type": "code",
      "source": [
        "# Filter all properties that are larger than 100 ft² in size.\n",
        "df_grande = df[df['Area (ft.)'] > 100]"
      ],
      "metadata": {
        "id": "UPl_TKiPNg7M"
      },
      "execution_count": 9,
      "outputs": []
    },
    {
      "cell_type": "code",
      "source": [
        "# Calculate the average price of properties by type (House or Apartment).\n",
        "precio_promedio_por_tipo = df.groupby('Type of property')['Price'].mean()\n",
        "print(precio_promedio_por_tipo)"
      ],
      "metadata": {
        "colab": {
          "base_uri": "https://localhost:8080/"
        },
        "id": "6pp1wV9ZN3X4",
        "outputId": "59d3e134-0ea5-446b-8052-3797687a2ae5"
      },
      "execution_count": 11,
      "outputs": [
        {
          "output_type": "stream",
          "name": "stdout",
          "text": [
            "Type of property\n",
            "Apartment    282.172264\n",
            "Office       248.785155\n",
            "Name: Price, dtype: float64\n"
          ]
        }
      ]
    },
    {
      "cell_type": "markdown",
      "source": [
        "5. Exploratory analysis:"
      ],
      "metadata": {
        "id": "GpkrDKOeOIK4"
      }
    },
    {
      "cell_type": "code",
      "source": [
        "# Calculate the most expensive and cheapest property.\n",
        "propiedad_mas_cara = df.loc[df['Price'].idxmax()]\n",
        "propiedad_mas_barata = df.loc[df['Price'].idxmin()]\n",
        "print(f\"Propiedad más cara: {propiedad_mas_cara}\")\n",
        "print(f\"Propiedad más barata: {propiedad_mas_barata}\")"
      ],
      "metadata": {
        "colab": {
          "base_uri": "https://localhost:8080/"
        },
        "id": "Nf1rCrfqOKQI",
        "outputId": "5c88abee-2651-4853-9423-7d6b1defde77"
      },
      "execution_count": 12,
      "outputs": [
        {
          "output_type": "stream",
          "name": "stdout",
          "text": [
            "Propiedad más cara: ID                       2045\n",
            "Building Type               2\n",
            "Year of sale              NaN\n",
            "Month of sale             NaN\n",
            "Type of property    Apartment\n",
            "Property #                 45\n",
            "Area (ft.)            1603.99\n",
            "Price               538.27174\n",
            "Status               Not Sold\n",
            "Name: 202, dtype: object\n",
            "Propiedad más barata: ID                       1005\n",
            "Building Type               1\n",
            "Year of sale           2004.0\n",
            "Month of sale             3.0\n",
            "Type of property       Office\n",
            "Property #                  5\n",
            "Area (ft.)             410.71\n",
            "Price               117.56407\n",
            "Status                  Sold \n",
            "Name: 179, dtype: object\n"
          ]
        }
      ]
    },
    {
      "cell_type": "code",
      "source": [
        "# Create a property price distribution graph.\n",
        "df['Price'].hist(bins=50)\n",
        "plt.title('Property price distribution graph')\n",
        "plt.xlabel('Price')\n",
        "plt.ylabel('Frequency')\n",
        "plt.show()"
      ],
      "metadata": {
        "colab": {
          "base_uri": "https://localhost:8080/",
          "height": 472
        },
        "id": "9O09vnYjOfFz",
        "outputId": "ae18955f-9d40-46b2-f1d2-165a39325abe"
      },
      "execution_count": 13,
      "outputs": [
        {
          "output_type": "display_data",
          "data": {
            "text/plain": [
              "<Figure size 640x480 with 1 Axes>"
            ],
            "image/png": "[encoded data removed]"
          },
          "metadata": {}
        }
      ]
    },
    {
      "cell_type": "markdown",
      "source": [
        "M.Sc. Daniel I. Lopez-Paez\n",
        "\n",
        "Clase: Inteligencia ARtificial y Redes Neuronales\n",
        "\n",
        "PE: Ingeniería en Mecatrónica\n",
        "\n",
        "FIME-UANL"
      ],
      "metadata": {
        "id": "rPdKJ4GvQS4I"
      }
    }
  ]
}