{
  "nbformat": 4,
  "nbformat_minor": 0,
  "metadata": {
    "colab": {
      "provenance": []
    },
    "kernelspec": {
      "name": "python3",
      "display_name": "Python 3"
    },
    "language_info": {
      "name": "python"
    }
  },
  "cells": [
    {
      "cell_type": "markdown",
      "source": [
        "# Team details\n",
        "\n",
        "Team 1"
      ],
      "metadata": {
        "id": "wQFVzD2X701x"
      }
    },
    {
      "cell_type": "markdown",
      "source": [
        "# Artificial Intelligence final project.\n",
        "\n",
        "# Introduction to the project.\n"
      ],
      "metadata": {
        "id": "r_cm0R4DBS72"
      }
    },
    {
      "cell_type": "markdown",
      "source": [
        "# Libraries\n",
        "The first part consists of importing libraries."
      ],
      "metadata": {
        "id": "nCnaL3HN-f0-"
      }
    },
    {
      "cell_type": "code",
      "execution_count": null,
      "metadata": {
        "id": "m5dQ6VsA7q0Y"
      },
      "outputs": [],
      "source": [
        "# Import libraries\n",
        "import tensorflow as tf\n",
        "from tensorflow.keras import datasets, layers, models\n",
        "import matplotlib.pyplot as plt"
      ]
    },
    {
      "cell_type": "markdown",
      "source": [
        "# Preprocessing\n",
        "\n",
        "In this section the images are imported, rescaled and divided into training group and validation group.\n",
        "\n",
        "Explanation of the division of the set of images (80-20 or 70-30)."
      ],
      "metadata": {
        "id": "C97_GxSp-lxM"
      }
    },
    {
      "cell_type": "code",
      "source": [
        "# Load images\n",
        "file = '/content/numero.png'\n",
        "test_image = cv2.imread(file, cv2.IMREAD_GRAYSCALE )\n",
        "\n",
        "# Image preview\n",
        "plt.imshow(test_image, cmap='gray')"
      ],
      "metadata": {
        "id": "Syal2xLk8ESI"
      },
      "execution_count": null,
      "outputs": []
    },
    {
      "cell_type": "code",
      "source": [
        "# Image edition\n",
        "img_resized = cv2.resize(test_image, (28,28), )\n",
        "img_resized = cv2.bitwise_not(img_resized)\n",
        "\n",
        "\n",
        "Numeros='/content/Numeros'\n",
        "plt.imshow(img_resized, cmap='gray')\n",
        "plt.savefig(\"/content/Numeros/abc.png\")\n",
        "\n",
        "\n",
        "img_resized.append()\n"
      ],
      "metadata": {
        "id": "50-y0Umz8cDB"
      },
      "execution_count": null,
      "outputs": []
    },
    {
      "cell_type": "code",
      "source": [
        "# Divide the dataset into 80% for training and 20% for validation, or 70% - 30%. You have to do a bit of research on which function to use.\n",
        "\n",
        "train_images\n",
        "train_labels\n",
        "test_images\n",
        "test_labels"
      ],
      "metadata": {
        "id": "vyWS-GLv92Fs"
      },
      "execution_count": null,
      "outputs": []
    },
    {
      "cell_type": "code",
      "source": [
        "# Preprocessing: visualization of variables and image normalization.\n",
        "train_images.shape"
      ],
      "metadata": {
        "id": "XNtiTJfN8mC5"
      },
      "execution_count": null,
      "outputs": []
    },
    {
      "cell_type": "code",
      "source": [
        "len(train_labels)"
      ],
      "metadata": {
        "id": "SdpnTy1b9Ljk"
      },
      "execution_count": null,
      "outputs": []
    },
    {
      "cell_type": "code",
      "source": [
        "train_labels"
      ],
      "metadata": {
        "id": "il1wC5XX9N0x"
      },
      "execution_count": null,
      "outputs": []
    },
    {
      "cell_type": "code",
      "source": [
        "test_images.shape"
      ],
      "metadata": {
        "id": "Qe3c5aQM-bRi"
      },
      "execution_count": null,
      "outputs": []
    },
    {
      "cell_type": "code",
      "source": [
        "len(test_labels)"
      ],
      "metadata": {
        "id": "6ofRitzv-c-P"
      },
      "execution_count": null,
      "outputs": []
    },
    {
      "cell_type": "code",
      "source": [
        "# Normalization of pixel values.\n",
        "train_images = train_images / 255.0\n",
        "test_images = test_images / 255.0"
      ],
      "metadata": {
        "id": "tAegk5Pz-3ab"
      },
      "execution_count": null,
      "outputs": []
    },
    {
      "cell_type": "markdown",
      "source": [
        "# Structure and training of Convolutional Artificial Neural Network (CNN)\n",
        "\n",
        "This section establishes the number of convolution layers and learning layers for our convolutional artificial neural network."
      ],
      "metadata": {
        "id": "mZhRgIBT_G_Z"
      }
    },
    {
      "cell_type": "code",
      "source": [
        "# Convolutional part\n",
        "\n",
        "model = models.Sequential()\n",
        "model.add(layers.Conv2D(32, (3, 3), activation='relu', input_shape=(28, 28)))\n",
        "model.add(layers.MaxPooling2D((2, 2)))\n",
        "model.add(layers.Conv2D(64, (3, 3), activation='relu'))\n",
        "model.add(layers.MaxPooling2D((2, 2)))\n",
        "model.add(layers.Conv2D(64, (3, 3), activation='relu'))"
      ],
      "metadata": {
        "id": "oKL_htyV_cra"
      },
      "execution_count": null,
      "outputs": []
    },
    {
      "cell_type": "code",
      "source": [
        "# Learning part\n",
        "model.add(layers.Flatten())\n",
        "model.add(layers.Dense(64, activation='relu'))\n",
        "model.add(layers.Dense(10), activation = 'softmax')"
      ],
      "metadata": {
        "id": "2LOghY4fAOJs"
      },
      "execution_count": null,
      "outputs": []
    },
    {
      "cell_type": "code",
      "source": [
        "# Model Compliation: Features\n",
        "model.compile(optimizer='adam',\n",
        "              loss=tf.keras.losses.SparseCategoricalCrossentropy(from_logits=True),\n",
        "              metrics=['accuracy'])"
      ],
      "metadata": {
        "id": "1qJHzKIXAfRS"
      },
      "execution_count": null,
      "outputs": []
    },
    {
      "cell_type": "code",
      "source": [
        "# CNN training\n",
        "history = model.fit(train_images, train_labels, epochs=10,\n",
        "                    validation_data=(test_images, test_labels))"
      ],
      "metadata": {
        "id": "plmC2YCCAnDf"
      },
      "execution_count": null,
      "outputs": []
    },
    {
      "cell_type": "markdown",
      "source": [
        "# CNN Accuracy Results\n",
        "\n",
        "(Explanation)"
      ],
      "metadata": {
        "id": "QaQT9t55A2MS"
      }
    },
    {
      "cell_type": "code",
      "source": [
        "# Plot with the difference in accuracy values from training and validation.\n",
        "\n",
        "plt.plot(history.history['accuracy'], label='accuracy')\n",
        "plt.plot(history.history['val_accuracy'], label = 'val_accuracy')\n",
        "plt.xlabel('Epoch')\n",
        "plt.ylabel('Accuracy')\n",
        "plt.ylim([0.4, 1])\n",
        "plt.xlim([-1, 11])\n",
        "plt.legend(loc='lower right')\n",
        "\n",
        "test_loss, test_acc = model.evaluate(test_images,  test_labels, verbose=2)"
      ],
      "metadata": {
        "id": "UM5puzKDA8f_"
      },
      "execution_count": null,
      "outputs": []
    },
    {
      "cell_type": "markdown",
      "source": [
        "# Predictions with the trained CNN.\n",
        " At least 5 predictions."
      ],
      "metadata": {
        "id": "3BF3mOuXBI1q"
      }
    },
    {
      "cell_type": "code",
      "source": [
        "predictions = model.predict(test_images_generadasporustedes)"
      ],
      "metadata": {
        "id": "hKuoA3o8Bmn6"
      },
      "execution_count": null,
      "outputs": []
    },
    {
      "cell_type": "code",
      "source": [
        "x = predictions[1]\n",
        "y = test_labels[1]\n",
        "print(\"La red dice que la imagen es clase \" + x + \"y la clase verdadera es: \" + y)"
      ],
      "metadata": {
        "id": "TqrxtE9MBuR_"
      },
      "execution_count": null,
      "outputs": []
    },
    {
      "cell_type": "code",
      "source": [
        "x = predictions[50]\n",
        "y = test_labels[50]\n",
        "print(\"La red dice que la imagen es clase \" + x + \"y la clase verdadera es: \" + y)"
      ],
      "metadata": {
        "id": "UZTliGGFBu6U"
      },
      "execution_count": null,
      "outputs": []
    },
    {
      "cell_type": "code",
      "source": [
        "x = predictions[40]\n",
        "y = test_labels[40]\n",
        "print(\"La red dice que la imagen es clase \" + x + \"y la clase verdadera es: \" + y)"
      ],
      "metadata": {
        "id": "_xFm1UgjBvbX"
      },
      "execution_count": null,
      "outputs": []
    },
    {
      "cell_type": "markdown",
      "source": [
        "# References\n",
        "\n",
        "1. https://www.tensorflow.org/tutorials/keras/classification?hl=es-419\n",
        "2. https://www.tensorflow.org/tutorials/images/cnn?hl=es-419\n",
        "3. https://keras.io/api/datasets/mnist/"
      ],
      "metadata": {
        "id": "A2UVqSuS_j-P"
      }
    }
  ]
}