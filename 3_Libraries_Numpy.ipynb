{
  "nbformat": 4,
  "nbformat_minor": 0,
  "metadata": {
    "colab": {
      "provenance": [],
      "authorship_tag": "ABX9TyN2G0pnBK3gpgACVTUPOR/h",
      "include_colab_link": true
    },
    "kernelspec": {
      "name": "python3",
      "display_name": "Python 3"
    },
    "language_info": {
      "name": "python"
    }
  },
  "cells": [
    {
      "cell_type": "markdown",
      "metadata": {
        "id": "view-in-github",
        "colab_type": "text"
      },
      "source": [
        "<a href=\"https://colab.research.google.com/github/dilp90/Artificial_Intelligence_FIME/blob/main/3_Libraries_Numpy.ipynb\" target=\"_parent\"><img src=\"https://colab.research.google.com/assets/colab-badge.svg\" alt=\"Open In Colab\"/></a>"
      ]
    },
    {
      "cell_type": "markdown",
      "source": [
        "# **NumPy Library Tutorial**\n",
        "\n",
        "NumPy is the fundamental package for scientific computing in Python. It is a Python library that provides a multidimensional array object, various derived objects (such as masked arrays and matrices), and an assortment of routines for fast operations on arrays, including mathematical, logical, shape manipulation, sorting, selecting, I/O, discrete Fourier transforms, basic linear algebra, basic statistical operations, random simulation, and much more.\n",
        "\n",
        "At the core of the NumPy package, is the ndarray object. This encapsulates n-dimensional arrays of homogeneous data types, and many operations are performed in compiled code for performance."
      ],
      "metadata": {
        "id": "v6bNQ5vOUo6Z"
      }
    },
    {
      "cell_type": "markdown",
      "source": [
        "# **Exercise:**\n",
        "\n",
        "Matrix Manipulation and Analysis with NumPy for Artificial Intelligence\n",
        "\n",
        "# **Goal:**\n",
        "\n",
        "To become familiar with the use of NumPy for matrix manipulation and analysis, a library that facilitates working with large volumes of data and neural networks in artificial intelligence projects."
      ],
      "metadata": {
        "id": "kYp3Q3UWVu7p"
      }
    },
    {
      "cell_type": "markdown",
      "source": [
        "**1. Import necessary libraries**"
      ],
      "metadata": {
        "id": "JzNOnD7WWa1i"
      }
    },
    {
      "cell_type": "code",
      "source": [
        "import numpy as np"
      ],
      "metadata": {
        "id": "7GglgPfdUqzi"
      },
      "execution_count": 1,
      "outputs": []
    },
    {
      "cell_type": "markdown",
      "source": [
        "**2. Create and explore matrices:**\n",
        "\n",
        "* Create a 3x3 matrix with random values between 0 and 1:"
      ],
      "metadata": {
        "id": "HiMkAMvpWfbu"
      }
    },
    {
      "cell_type": "code",
      "execution_count": 2,
      "metadata": {
        "colab": {
          "base_uri": "https://localhost:8080/"
        },
        "id": "nKHQc7q7UlSL",
        "outputId": "94747fcb-9ea3-4180-84ec-a239f30c29a1"
      },
      "outputs": [
        {
          "output_type": "stream",
          "name": "stdout",
          "text": [
            "Matrix A:\n",
            "[[0.56763968 0.04590056 0.35855906]\n",
            " [0.56636567 0.88445656 0.09989047]\n",
            " [0.58265358 0.65256322 0.51917164]]\n"
          ]
        }
      ],
      "source": [
        "matrix_a = np.random.rand(3, 3)\n",
        "print(\"Matrix A:\")\n",
        "print(matrix_a)"
      ]
    },
    {
      "cell_type": "markdown",
      "source": [
        "* Create an identity matrix of size 3x3:"
      ],
      "metadata": {
        "id": "nnpWr5ymWwi9"
      }
    },
    {
      "cell_type": "code",
      "source": [
        "identity_matrix = np.eye(3)\n",
        "print(\"Identity matrix:\")\n",
        "print(identity_matrix)"
      ],
      "metadata": {
        "colab": {
          "base_uri": "https://localhost:8080/"
        },
        "id": "9HBHcz2YWyn0",
        "outputId": "d7eca986-7d84-4aac-f7fe-d37d646063b0"
      },
      "execution_count": 3,
      "outputs": [
        {
          "output_type": "stream",
          "name": "stdout",
          "text": [
            "Identity matrix:\n",
            "[[1. 0. 0.]\n",
            " [0. 1. 0.]\n",
            " [0. 0. 1.]]\n"
          ]
        }
      ]
    },
    {
      "cell_type": "markdown",
      "source": [
        "* * Create a matrix of ones of size 2x4:"
      ],
      "metadata": {
        "id": "2Xi9fdTQW-oD"
      }
    },
    {
      "cell_type": "code",
      "source": [
        "ones_matrix = np.ones((2, 4))\n",
        "print(\"Ones matrix:\")\n",
        "print(ones_matrix)"
      ],
      "metadata": {
        "colab": {
          "base_uri": "https://localhost:8080/"
        },
        "id": "TKk_PGJIXBJ0",
        "outputId": "d3d73e4d-6eac-4277-cf94-092735359a10"
      },
      "execution_count": 4,
      "outputs": [
        {
          "output_type": "stream",
          "name": "stdout",
          "text": [
            "Ones matrix:\n",
            "[[1. 1. 1. 1.]\n",
            " [1. 1. 1. 1.]]\n"
          ]
        }
      ]
    },
    {
      "cell_type": "markdown",
      "source": [
        "**3. Basic matrix operations:**\n",
        "\n",
        "* Matrix addition: Create another 3x3 matrix and add it to the first one:"
      ],
      "metadata": {
        "id": "fgwxDU6GXDmj"
      }
    },
    {
      "cell_type": "code",
      "source": [
        "matrix_b = np.random.rand(3, 3)\n",
        "sum_matrix = matrix_a + matrix_b\n",
        "print(\"Sum of Matrices A and B:\")\n",
        "print(sum_matrix)"
      ],
      "metadata": {
        "colab": {
          "base_uri": "https://localhost:8080/"
        },
        "id": "97dcGMU6YnJM",
        "outputId": "03a55f8a-bf75-4022-acbd-19119c89bd61"
      },
      "execution_count": 5,
      "outputs": [
        {
          "output_type": "stream",
          "name": "stdout",
          "text": [
            "Sum of Matrices A and B:\n",
            "[[1.25417073 0.758744   0.56238965]\n",
            " [0.80723175 1.2924942  0.21103963]\n",
            " [1.17249981 1.10279385 0.9229281 ]]\n"
          ]
        }
      ]
    },
    {
      "cell_type": "markdown",
      "source": [
        "* * Matrix product (matrix multiplication):"
      ],
      "metadata": {
        "id": "gHno6DBrYuxo"
      }
    },
    {
      "cell_type": "code",
      "source": [
        "product_matrix = np.dot(matrix_a, matrix_b)\n",
        "print(\"Product of Matrices A and B:\")\n",
        "print(product_matrix)"
      ],
      "metadata": {
        "colab": {
          "base_uri": "https://localhost:8080/"
        },
        "id": "u3yZEiEaYv1_",
        "outputId": "a1246672-8cd3-49d6-8f5d-eb4e90a61077"
      },
      "execution_count": 6,
      "outputs": [
        {
          "output_type": "stream",
          "name": "stdout",
          "text": [
            "Product of Matrices A and B:\n",
            "[[0.61225286 0.58480165 0.26557467]\n",
            " [0.66078322 0.80959537 0.25408067]\n",
            " [0.86342156 0.91535812 0.40091338]]\n"
          ]
        }
      ]
    },
    {
      "cell_type": "markdown",
      "source": [
        "* Transposition of a matrix:"
      ],
      "metadata": {
        "id": "7PPPVddKY0C9"
      }
    },
    {
      "cell_type": "code",
      "source": [
        "transposed_matrix = np.transpose(matrix_a)\n",
        "print(\" Transposition of matrix A:\")\n",
        "print(transposed_matrix)"
      ],
      "metadata": {
        "colab": {
          "base_uri": "https://localhost:8080/"
        },
        "id": "uf0YEqMJY097",
        "outputId": "9d325149-a4c3-49f3-b7ae-44876a519b8f"
      },
      "execution_count": 7,
      "outputs": [
        {
          "output_type": "stream",
          "name": "stdout",
          "text": [
            " Transposition of matrix A:\n",
            "[[0.56763968 0.56636567 0.58265358]\n",
            " [0.04590056 0.88445656 0.65256322]\n",
            " [0.35855906 0.09989047 0.51917164]]\n"
          ]
        }
      ]
    },
    {
      "cell_type": "markdown",
      "source": [
        "**4. Accessing and manipulating elements:**\n",
        "\n",
        "* Access the element at row 2, column 3 of `matrix_a`:"
      ],
      "metadata": {
        "id": "tmutZJ92Y2wk"
      }
    },
    {
      "cell_type": "code",
      "source": [
        "element = matrix_a[1, 2]\n",
        "print(\"Element in row 2, column 3 of A:\", element)"
      ],
      "metadata": {
        "colab": {
          "base_uri": "https://localhost:8080/"
        },
        "id": "_LWsxCSrY56_",
        "outputId": "3828060c-5a1b-4226-ef6f-674ef17ad26f"
      },
      "execution_count": 8,
      "outputs": [
        {
          "output_type": "stream",
          "name": "stdout",
          "text": [
            "Element in row 2, column 3 of A: 0.09989046566157\n"
          ]
        }
      ]
    },
    {
      "cell_type": "markdown",
      "source": [
        "* Change the value in row 1, column 2 of matrix_a to 5:"
      ],
      "metadata": {
        "id": "lLZeX_2tZLO8"
      }
    },
    {
      "cell_type": "code",
      "source": [
        "matrix_a[0, 1] = 5\n",
        "print(\"Matrix A with modified value:\")\n",
        "print(matrix_a)"
      ],
      "metadata": {
        "colab": {
          "base_uri": "https://localhost:8080/"
        },
        "id": "1CNIaTyDZMVb",
        "outputId": "33bb602d-4869-4890-80d4-ddf50c39a7e4"
      },
      "execution_count": 9,
      "outputs": [
        {
          "output_type": "stream",
          "name": "stdout",
          "text": [
            "Matrix A with modified value:\n",
            "[[0.56763968 5.         0.35855906]\n",
            " [0.56636567 0.88445656 0.09989047]\n",
            " [0.58265358 0.65256322 0.51917164]]\n"
          ]
        }
      ]
    },
    {
      "cell_type": "markdown",
      "source": [
        "**5. Statistical operations:**\n",
        "\n",
        "* Calculate the maximum, minimum and mean values ​​of the matrix `matrix_a`:"
      ],
      "metadata": {
        "id": "RB1lkMWkZPhb"
      }
    },
    {
      "cell_type": "code",
      "source": [
        "print(\"Maximum value of A:\", np.max(matrix_a))\n",
        "print(\"Minimum value of A:\", np.min(matrix_a))\n",
        "print(\"Mean value of A:\", np.mean(matrix_a))"
      ],
      "metadata": {
        "colab": {
          "base_uri": "https://localhost:8080/"
        },
        "id": "NSKlY9QCZRhl",
        "outputId": "8db257c8-6b71-4786-c891-bfc66cb9de0e"
      },
      "execution_count": 10,
      "outputs": [
        {
          "output_type": "stream",
          "name": "stdout",
          "text": [
            "Maximum value of A: 5.0\n",
            "Minimum value of A: 0.09989046566157\n",
            "Mean value of A: 1.0256999870350951\n"
          ]
        }
      ]
    },
    {
      "cell_type": "markdown",
      "source": [
        "**6. Dimension reduction:**\n",
        "\n",
        "* Converts a 2D (3x3) matrix into a 9-element (1D) vector:"
      ],
      "metadata": {
        "id": "AAjQuiBDZWut"
      }
    },
    {
      "cell_type": "code",
      "source": [
        "flattened_matrix = matrix_a.flatten()\n",
        "print(\"Matrix A to 1D vector:\")\n",
        "print(flattened_matrix)"
      ],
      "metadata": {
        "colab": {
          "base_uri": "https://localhost:8080/"
        },
        "id": "URN9SkfSZZ3T",
        "outputId": "1f8d3f50-0cf1-498e-8d1d-bead5484e8a8"
      },
      "execution_count": 11,
      "outputs": [
        {
          "output_type": "stream",
          "name": "stdout",
          "text": [
            "Matrix A to 1D vector:\n",
            "[0.56763968 5.         0.35855906 0.56636567 0.88445656 0.09989047\n",
            " 0.58265358 0.65256322 0.51917164]\n"
          ]
        }
      ]
    },
    {
      "cell_type": "markdown",
      "source": [
        "7. Practical Applications for AI:\n",
        "\n",
        "* *Data Normalization*: Suppose you have a dataset with features (e.g., a 3x3 feature matrix). Normalize the values ​​in each column so that they have a mean of 0 and a standard deviation of 1."
      ],
      "metadata": {
        "id": "-23EngpOZetg"
      }
    },
    {
      "cell_type": "code",
      "source": [
        "# Sample data (3x3 matrix)\n",
        "data = np.array([[10, 200, 3000],\n",
        "[20, 250, 4000],\n",
        "[30, 300, 5000]])\n",
        "\n",
        "# Calculation of min and max by column\n",
        "min_vals = np.min(data, axis=0)\n",
        "max_vals = np.max(data, axis=0)\n",
        "\n",
        "# Min-Max normalization\n",
        "normalized_data = (data - min_vals) / (max_vals - min_vals)\n",
        "\n",
        "print(\"Original data:\")\n",
        "print(data)\n",
        "print(\"Normalized data:\")\n",
        "print(normalized_data)"
      ],
      "metadata": {
        "id": "G60cX7M7Zm34",
        "outputId": "5b493fbe-070c-434d-a31e-f14887b313a6",
        "colab": {
          "base_uri": "https://localhost:8080/"
        }
      },
      "execution_count": 14,
      "outputs": [
        {
          "output_type": "stream",
          "name": "stdout",
          "text": [
            "Original data:\n",
            "[[  10  200 3000]\n",
            " [  20  250 4000]\n",
            " [  30  300 5000]]\n",
            "Normalized data:\n",
            "[[0.  0.  0. ]\n",
            " [0.5 0.5 0.5]\n",
            " [1.  1.  1. ]]\n"
          ]
        }
      ]
    },
    {
      "cell_type": "markdown",
      "source": [
        "Sources:\n",
        "\n",
        "*   https://numpy.org/devdocs/user/whatisnumpy.html#whatisnumpy\n",
        "\n",
        "\n",
        "\n",
        "\n",
        "\n",
        "M.Sc. Daniel I. Lopez-Paez\n",
        "\n",
        "Class: Artificial Intelligence\n",
        "\n",
        "PE: Biomedical Engineering\n",
        "\n",
        "FIME-UANL"
      ],
      "metadata": {
        "id": "5HV-wHEuVauF"
      }
    }
  ]
}